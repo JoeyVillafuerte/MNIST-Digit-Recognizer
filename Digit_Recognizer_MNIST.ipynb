{
  "nbformat": 4,
  "nbformat_minor": 0,
  "metadata": {
    "colab": {
      "provenance": []
    },
    "kernelspec": {
      "name": "python3",
      "display_name": "Python 3"
    },
    "language_info": {
      "name": "python"
    }
  },
  "cells": [
    {
      "cell_type": "code",
      "source": [
        "import tensorflow_datasets as tfds\n",
        "import numpy as np\n",
        "from sklearn.model_selection import train_test_split\n",
        "from sklearn.svm import SVC\n",
        "from sklearn.metrics import accuracy_score\n",
        "from tensorflow.keras import layers, models\n",
        "import matplotlib.pyplot as plt\n",
        "\n",
        "# Loading the MNIST dataset using TensorFlow Datasets\n",
        "ds_train, ds_info = tfds.load('mnist', split='train', as_supervised=True, with_info=True)\n",
        "\n",
        "# Convert dataset to numpy arrays\n",
        "train_images = np.array([example[0].numpy() for example in ds_train])\n",
        "train_labels = np.array([example[1].numpy() for example in ds_train])\n",
        "\n",
        "# Display some images from the MNIST dataset\n",
        "plt.figure(figsize=(10, 10))\n",
        "for i in range(25):\n",
        "    plt.subplot(5, 5, i + 1)\n",
        "    plt.imshow(train_images[i], cmap='gray')\n",
        "    plt.title(f\"Label: {train_labels[i]}\")\n",
        "    plt.axis('off')\n",
        "plt.show()\n",
        "\n",
        "# We reshape the images to 28x28 and scale the pixel values to [0, 1]\n",
        "train_images_cnn = train_images.reshape(-1, 28, 28, 1) / 255.0\n",
        "train_images_svm = train_images.reshape(-1, 28 * 28) / 255.0\n",
        "\n",
        "# Split the training data into training and validation sets\n",
        "X_train_cnn, X_val_cnn, y_train_cnn, y_val_cnn = train_test_split(train_images_cnn, train_labels, test_size=0.1, random_state=42)\n",
        "X_train_svm, X_val_svm, y_train_svm, y_val_svm = train_test_split(train_images_svm, train_labels, test_size=0.1, random_state=42)\n",
        "\n",
        "# Defining the CNN model architecture\n",
        "cnn_model = models.Sequential([\n",
        "    layers.Conv2D(32, (3, 3), activation='relu', input_shape=(28, 28, 1)),\n",
        "    layers.MaxPooling2D((2, 2)),\n",
        "    layers.Conv2D(64, (3, 3), activation='relu'),\n",
        "    layers.MaxPooling2D((2, 2)),\n",
        "    layers.Conv2D(64, (3, 3), activation='relu'),\n",
        "    layers.Flatten(),\n",
        "    layers.Dense(64, activation='relu'),\n",
        "    layers.Dense(10, activation='softmax')\n",
        "])\n",
        "\n",
        "# Compile the CNN model\n",
        "cnn_model.compile(optimizer='adam',\n",
        "              loss='sparse_categorical_crossentropy',\n",
        "              metrics=['accuracy'])\n",
        "\n",
        "# Train the CNN model\n",
        "cnn_model.fit(X_train_cnn, y_train_cnn, epochs=10, batch_size=64, validation_data=(X_val_cnn, y_val_cnn))\n",
        "\n",
        "# Define and train the SVM model\n",
        "svm_model = SVC(kernel='rbf', gamma='auto')\n",
        "svm_model.fit(X_train_svm, y_train_svm)\n",
        "\n",
        "# Predict labels for validation set using SVM\n",
        "y_pred_svm = svm_model.predict(X_val_svm)\n",
        "\n",
        "# Calculate accuracy of SVM model\n",
        "accuracy_svm = accuracy_score(y_val_svm, y_pred_svm)\n",
        "print(\"Validation Accuracy of SVM:\", accuracy_svm)\n"
      ],
      "metadata": {
        "id": "HZ4OY5vbbYfz"
      },
      "execution_count": null,
      "outputs": []
    },
    {
      "cell_type": "code",
      "source": [
        "#Ignore this for now\n",
        "import pandas as pd\n",
        "from tensorflow.keras.utils import to_categorical\n",
        "from tensorflow.keras.optimizers import SGD\n",
        "\n",
        "\n",
        "#Read training data from Kaggle dataset\n",
        "train = pd.read_csv('/content/drive/MyDrive/SOFE4620_MachineLearning/Project/train.csv')\n",
        "#Read test data from Kaggle dataset\n",
        "test = pd.read_csv('/content/drive/MyDrive/SOFE4620_MachineLearning/Project/test.csv')\n",
        "\n",
        "#Set y train to get all the values from the label column\n",
        "y_train = train[\"label\"]\n",
        "\n",
        "#Set x train to get all pixel values (ignore the label column)\n",
        "x_train = train.iloc[:, 1:]\n",
        "\n",
        "#Normalize the data\n",
        "x_train = x_train / 255.0\n",
        "test = test / 255.0\n",
        "\n",
        "#Reshape data\n",
        "x_train = x_train.values.reshape(-1,28,28,1)\n",
        "test = test.values.reshape(-1,28,28,1)\n",
        "\n",
        "#Represent the label as a one-hot vector\n",
        "y_train= to_categorical(y_train)\n",
        "num_classes = y_train.shape[1]\n",
        "\n",
        "# Split the training data into training and validation sets\n",
        "x_train_cnn, x_val_cnn, y_train_cnn, y_val_cnn = train_test_split(x_train, y_train, test_size=0.1, random_state=2)\n",
        "\n",
        "# Defining the CNN model architecture\n",
        "cnn_model = models.Sequential([\n",
        "    layers.Conv2D(32, (3, 3), activation='relu', input_shape=(28, 28, 1)),\n",
        "    layers.MaxPooling2D((2, 2)),\n",
        "    layers.Conv2D(64, (3, 3), activation='relu'),\n",
        "    layers.MaxPooling2D((2, 2)),\n",
        "    layers.Conv2D(64, (3, 3), activation='relu'),\n",
        "    layers.Flatten(),\n",
        "    layers.Dense(64, activation='relu'),\n",
        "    layers.Dense(10, activation='softmax')\n",
        "])\n",
        "\n",
        "#Define model parameters\n",
        "optimizer = SGD(learning_rate=0.01)\n",
        "epochs = 10\n",
        "batch_size = 3\n",
        "\n",
        "\n",
        "cnn_model.compile(optimizer = optimizer , loss = \"categorical_crossentropy\",  metrics=['accuracy'])\n",
        "\n",
        "\n",
        "# Train the CNN model\n",
        "history = cnn_model.fit(x_train_cnn, y_train_cnn, epochs, batch_size, validation_data=(x_val_cnn, y_val_cnn))\n",
        "\n",
        "\n"
      ],
      "metadata": {
        "colab": {
          "base_uri": "https://localhost:8080/",
          "height": 736
        },
        "id": "xwPzwUQanlx9",
        "outputId": "4861124d-93a7-4a35-fb3e-7a5109bf5a81"
      },
      "execution_count": null,
      "outputs": [
        {
          "output_type": "stream",
          "name": "stdout",
          "text": [
            "Epoch 1/3\n",
            "3780/3780 [==============================] - 54s 14ms/step - loss: 0.3901 - accuracy: 0.8802 - val_loss: 0.1508 - val_accuracy: 0.9524\n",
            "Epoch 2/3\n",
            "3780/3780 [==============================] - 48s 13ms/step - loss: 0.1018 - accuracy: 0.9673 - val_loss: 0.1077 - val_accuracy: 0.9671\n",
            "Epoch 3/3\n",
            "3780/3780 [==============================] - 50s 13ms/step - loss: 0.0705 - accuracy: 0.9780 - val_loss: 0.0760 - val_accuracy: 0.9755\n"
          ]
        },
        {
          "output_type": "error",
          "ename": "NameError",
          "evalue": "name 'test_labels' is not defined",
          "traceback": [
            "\u001b[0;31m---------------------------------------------------------------------------\u001b[0m",
            "\u001b[0;31mNameError\u001b[0m                                 Traceback (most recent call last)",
            "\u001b[0;32m<ipython-input-29-6caff9884f14>\u001b[0m in \u001b[0;36m<cell line: 65>\u001b[0;34m()\u001b[0m\n\u001b[1;32m     63\u001b[0m \u001b[0mplt\u001b[0m\u001b[0;34m.\u001b[0m\u001b[0mlegend\u001b[0m\u001b[0;34m(\u001b[0m\u001b[0mloc\u001b[0m\u001b[0;34m=\u001b[0m\u001b[0;34m'lower right'\u001b[0m\u001b[0;34m)\u001b[0m\u001b[0;34m\u001b[0m\u001b[0;34m\u001b[0m\u001b[0m\n\u001b[1;32m     64\u001b[0m \u001b[0;34m\u001b[0m\u001b[0m\n\u001b[0;32m---> 65\u001b[0;31m \u001b[0mtest_loss\u001b[0m\u001b[0;34m,\u001b[0m \u001b[0mtest_acc\u001b[0m \u001b[0;34m=\u001b[0m \u001b[0mcnn_model\u001b[0m\u001b[0;34m.\u001b[0m\u001b[0mevaluate\u001b[0m\u001b[0;34m(\u001b[0m\u001b[0mtest\u001b[0m\u001b[0;34m,\u001b[0m  \u001b[0mtest_labels\u001b[0m\u001b[0;34m,\u001b[0m \u001b[0mverbose\u001b[0m\u001b[0;34m=\u001b[0m\u001b[0;36m2\u001b[0m\u001b[0;34m)\u001b[0m\u001b[0;34m\u001b[0m\u001b[0;34m\u001b[0m\u001b[0m\n\u001b[0m\u001b[1;32m     66\u001b[0m \u001b[0;34m\u001b[0m\u001b[0m\n",
            "\u001b[0;31mNameError\u001b[0m: name 'test_labels' is not defined"
          ]
        },
        {
          "output_type": "display_data",
          "data": {
            "text/plain": [
              "<Figure size 640x480 with 1 Axes>"
            ],
            "image/png": "[encoded data removed]"
          },
          "metadata": {}
        }
      ]
    }
  ]
}